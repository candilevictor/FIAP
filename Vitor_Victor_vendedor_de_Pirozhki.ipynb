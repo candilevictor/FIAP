{
  "nbformat": 4,
  "nbformat_minor": 0,
  "metadata": {
    "colab": {
      "provenance": [],
      "include_colab_link": true
    },
    "kernelspec": {
      "name": "python3",
      "display_name": "Python 3"
    },
    "language_info": {
      "name": "python"
    }
  },
  "cells": [
    {
      "cell_type": "markdown",
      "metadata": {
        "id": "view-in-github",
        "colab_type": "text"
      },
      "source": [
        "<a href=\"https://colab.research.google.com/github/candilevictor/FIAP/blob/main/Vitor_Victor_vendedor_de_Pirozhki.ipynb\" target=\"_parent\"><img src=\"https://colab.research.google.com/assets/colab-badge.svg\" alt=\"Open In Colab\"/></a>"
      ]
    },
    {
      "cell_type": "markdown",
      "source": [
        "# CASE: O vendedor de Pirozhki\n",
        "\n",
        "\n",
        "Vladimir Sidorov desistiu de seu trabalho convencional na KGB e decidiu empreender em 2010 no ramo alimentício. Com suas economias abriu um foodtruck no bairro do Ipiranga – SP especializado na venda de Pirozhki, onde seu grande diferencial era trabalhar com ingredientes importados dando uma qualidade extraordinária ao produto. Após o crescimento das vendas, a modalidade delivery foi implementada para auxiliar a empresa. Vladimir era extremamente popular no bairro, todos o conheciam, mas em 2019 se mudou para um ponto melhor e não tivemos mais notícia. Os últimos dados compartilhados das vendas de Vlad foram disponibilizados antes de sua partida.\n"
      ],
      "metadata": {
        "id": "HXZSC_Ob3Zrd"
      }
    },
    {
      "cell_type": "code",
      "source": [
        "\"\"\"Ano\tvendas\n",
        "2010\t723\n",
        "2011\t814\n",
        "2012\t905\n",
        "2014\t1087\n",
        "2017\t1360\n",
        "2018\t1451\n",
        "2019\t1542\"\"\"\n"
      ],
      "metadata": {
        "id": "H6qSt8nv3de1"
      },
      "execution_count": null,
      "outputs": []
    },
    {
      "cell_type": "markdown",
      "source": [
        "\n",
        "\n",
        "1.   Dado o problema acima, qual o melhor algoritmo para descobrir os dados de 2015?\n",
        "2.   Qual coeficiente angular?\n",
        "3.   Considerando uma perspectiva estatística, qual o total de venda em 2020 (Apresentar valores)?\n",
        "4. Considerando uma perspectiva estatística, qual o total de venda em 2021 (Apresentar valores)?\n",
        "5. Desenvolva um código em python que calcule estatisticamente as vendas em qualquer ano desejado\n",
        "6. Considerando sua opinião, qual o total de venda em 2021?\n",
        "7. Considerando sua opinião, qual o total de venda em 2023?\n",
        "\n"
      ],
      "metadata": {
        "id": "jmbpy-k73f90"
      }
    },
    {
      "cell_type": "markdown",
      "source": [
        "*   Nome: Victor Candile\n",
        "*   RM: 98846\n",
        "*   Nome: Vitor Manzoli\n",
        "*   RM: 551551\n",
        "\n",
        "\n"
      ],
      "metadata": {
        "id": "Wi9_DVhq34pT"
      }
    },
    {
      "cell_type": "markdown",
      "source": [
        "### Bibliotecas"
      ],
      "metadata": {
        "id": "t62OT8iHAsog"
      }
    },
    {
      "cell_type": "code",
      "source": [
        "from sklearn.linear_model import LinearRegression"
      ],
      "metadata": {
        "id": "U_TwNGsGAsJk"
      },
      "execution_count": null,
      "outputs": []
    },
    {
      "cell_type": "markdown",
      "source": [
        "### Dados de venda e ano"
      ],
      "metadata": {
        "id": "Ful2-KtUAwl-"
      }
    },
    {
      "cell_type": "code",
      "source": [
        "anos = [2010, 2011, 2012, 2014, 2017, 2018, 2019]\n",
        "vendas = [723, 814, 905, 1087, 1360, 1451, 1542]"
      ],
      "metadata": {
        "id": "bSgr6vBKA2QP"
      },
      "execution_count": null,
      "outputs": []
    },
    {
      "cell_type": "markdown",
      "source": [
        "# Coeficiente Angular"
      ],
      "metadata": {
        "id": "ZAX2QPtzER-k"
      }
    },
    {
      "cell_type": "code",
      "source": [
        "# Coeficiente angular (inclinacão da reta)\n",
        "coef_angular = modelo.coef_[0]\n",
        "print(f\"O coeficiente angular da regressão linear é: {coef_angular:.2f}\")"
      ],
      "metadata": {
        "colab": {
          "base_uri": "https://localhost:8080/"
        },
        "id": "LVmOftO2Eb2q",
        "outputId": "ad4ff6a7-323e-404a-fb9a-4eadc1512a74"
      },
      "execution_count": null,
      "outputs": [
        {
          "output_type": "stream",
          "name": "stdout",
          "text": [
            "O coeficiente angular da regressão linear é: 91.00\n"
          ]
        }
      ]
    },
    {
      "cell_type": "markdown",
      "source": [
        "### Treinando o modelo de Regressão linear"
      ],
      "metadata": {
        "id": "hnQLMpsfA4kO"
      }
    },
    {
      "cell_type": "code",
      "source": [
        "modelo = LinearRegression()\n",
        "modelo.fit([[ano] for ano in anos], vendas)"
      ],
      "metadata": {
        "colab": {
          "base_uri": "https://localhost:8080/",
          "height": 75
        },
        "id": "BGqV3gDwBAJs",
        "outputId": "3223ae10-dd7c-4942-a44a-62ceb833f506"
      },
      "execution_count": null,
      "outputs": [
        {
          "output_type": "execute_result",
          "data": {
            "text/plain": [
              "LinearRegression()"
            ],
            "text/html": [
              "<style>#sk-container-id-2 {color: black;background-color: white;}#sk-container-id-2 pre{padding: 0;}#sk-container-id-2 div.sk-toggleable {background-color: white;}#sk-container-id-2 label.sk-toggleable__label {cursor: pointer;display: block;width: 100%;margin-bottom: 0;padding: 0.3em;box-sizing: border-box;text-align: center;}#sk-container-id-2 label.sk-toggleable__label-arrow:before {content: \"▸\";float: left;margin-right: 0.25em;color: #696969;}#sk-container-id-2 label.sk-toggleable__label-arrow:hover:before {color: black;}#sk-container-id-2 div.sk-estimator:hover label.sk-toggleable__label-arrow:before {color: black;}#sk-container-id-2 div.sk-toggleable__content {max-height: 0;max-width: 0;overflow: hidden;text-align: left;background-color: #f0f8ff;}#sk-container-id-2 div.sk-toggleable__content pre {margin: 0.2em;color: black;border-radius: 0.25em;background-color: #f0f8ff;}#sk-container-id-2 input.sk-toggleable__control:checked~div.sk-toggleable__content {max-height: 200px;max-width: 100%;overflow: auto;}#sk-container-id-2 input.sk-toggleable__control:checked~label.sk-toggleable__label-arrow:before {content: \"▾\";}#sk-container-id-2 div.sk-estimator input.sk-toggleable__control:checked~label.sk-toggleable__label {background-color: #d4ebff;}#sk-container-id-2 div.sk-label input.sk-toggleable__control:checked~label.sk-toggleable__label {background-color: #d4ebff;}#sk-container-id-2 input.sk-hidden--visually {border: 0;clip: rect(1px 1px 1px 1px);clip: rect(1px, 1px, 1px, 1px);height: 1px;margin: -1px;overflow: hidden;padding: 0;position: absolute;width: 1px;}#sk-container-id-2 div.sk-estimator {font-family: monospace;background-color: #f0f8ff;border: 1px dotted black;border-radius: 0.25em;box-sizing: border-box;margin-bottom: 0.5em;}#sk-container-id-2 div.sk-estimator:hover {background-color: #d4ebff;}#sk-container-id-2 div.sk-parallel-item::after {content: \"\";width: 100%;border-bottom: 1px solid gray;flex-grow: 1;}#sk-container-id-2 div.sk-label:hover label.sk-toggleable__label {background-color: #d4ebff;}#sk-container-id-2 div.sk-serial::before {content: \"\";position: absolute;border-left: 1px solid gray;box-sizing: border-box;top: 0;bottom: 0;left: 50%;z-index: 0;}#sk-container-id-2 div.sk-serial {display: flex;flex-direction: column;align-items: center;background-color: white;padding-right: 0.2em;padding-left: 0.2em;position: relative;}#sk-container-id-2 div.sk-item {position: relative;z-index: 1;}#sk-container-id-2 div.sk-parallel {display: flex;align-items: stretch;justify-content: center;background-color: white;position: relative;}#sk-container-id-2 div.sk-item::before, #sk-container-id-2 div.sk-parallel-item::before {content: \"\";position: absolute;border-left: 1px solid gray;box-sizing: border-box;top: 0;bottom: 0;left: 50%;z-index: -1;}#sk-container-id-2 div.sk-parallel-item {display: flex;flex-direction: column;z-index: 1;position: relative;background-color: white;}#sk-container-id-2 div.sk-parallel-item:first-child::after {align-self: flex-end;width: 50%;}#sk-container-id-2 div.sk-parallel-item:last-child::after {align-self: flex-start;width: 50%;}#sk-container-id-2 div.sk-parallel-item:only-child::after {width: 0;}#sk-container-id-2 div.sk-dashed-wrapped {border: 1px dashed gray;margin: 0 0.4em 0.5em 0.4em;box-sizing: border-box;padding-bottom: 0.4em;background-color: white;}#sk-container-id-2 div.sk-label label {font-family: monospace;font-weight: bold;display: inline-block;line-height: 1.2em;}#sk-container-id-2 div.sk-label-container {text-align: center;}#sk-container-id-2 div.sk-container {/* jupyter's `normalize.less` sets `[hidden] { display: none; }` but bootstrap.min.css set `[hidden] { display: none !important; }` so we also need the `!important` here to be able to override the default hidden behavior on the sphinx rendered scikit-learn.org. See: https://github.com/scikit-learn/scikit-learn/issues/21755 */display: inline-block !important;position: relative;}#sk-container-id-2 div.sk-text-repr-fallback {display: none;}</style><div id=\"sk-container-id-2\" class=\"sk-top-container\"><div class=\"sk-text-repr-fallback\"><pre>LinearRegression()</pre><b>In a Jupyter environment, please rerun this cell to show the HTML representation or trust the notebook. <br />On GitHub, the HTML representation is unable to render, please try loading this page with nbviewer.org.</b></div><div class=\"sk-container\" hidden><div class=\"sk-item\"><div class=\"sk-estimator sk-toggleable\"><input class=\"sk-toggleable__control sk-hidden--visually\" id=\"sk-estimator-id-2\" type=\"checkbox\" checked><label for=\"sk-estimator-id-2\" class=\"sk-toggleable__label sk-toggleable__label-arrow\">LinearRegression</label><div class=\"sk-toggleable__content\"><pre>LinearRegression()</pre></div></div></div></div></div>"
            ]
          },
          "metadata": {},
          "execution_count": 18
        }
      ]
    },
    {
      "cell_type": "markdown",
      "source": [
        "### Programa Principal"
      ],
      "metadata": {
        "id": "awqX1eREBDJi"
      }
    },
    {
      "cell_type": "code",
      "source": [
        "while True:\n",
        "  opcao = int(input(\"\"\"\n",
        "  Menu\n",
        "  0 - Sair\n",
        "  1 - Previsão\n",
        "\n",
        "  opção:\n",
        "  \"\"\"))\n",
        "  match opcao:\n",
        "    case 0:\n",
        "      print(\"Programa encerrado\")\n",
        "      break\n",
        "    case 1:\n",
        "      ano = int(input(\"Digite o ano desejado: \"))\n",
        "      previsao = modelo.predict([[ano]])[0]\n",
        "      print(f\"A previsão de vendas para o ano {ano} é: {previsao:.2f}\")\n",
        "    case _:\n",
        "      print(\"Digite uma opção valide vulgo 0 e 1\")\n",
        "\n"
      ],
      "metadata": {
        "id": "E_b_IJ788Bao"
      },
      "execution_count": null,
      "outputs": []
    },
    {
      "cell_type": "markdown",
      "source": [
        "# Caso solucionado\n",
        "\n",
        "- 1: O modelo de regressão linear foi escolhido para estimar as vendas em 2015 devido à sua simplicidade e à natureza aproximadamente linear dos dados históricos de vendas. Este modelo é apropriado quando a relação entre as variáveis é razoavelmente linear, como no caso dos anos e das vendas. Além disso, o modelo de regressão linear é fácil de interpretar e implementar, tornando-o uma escolha adequada para uma estimativa direta das vendas em 2015 com base nos dados existentes. Para dados mais complexos ou relacionamentos não lineares, outros modelos de aprendizado de máquina mais avançados podem ser explorados.\n",
        "\n",
        "A previsão de vendas para o ano 2015 é: 1178.00\n",
        "\n",
        "- 2:\n",
        "```\n",
        "# Coeficiente angular (inclinacão da reta)\n",
        "coef_angular = modelo.coef_[0]\n",
        "print(f\"O coeficiente angular da regressão linear é: {coef_angular:.2f}\")\n",
        "```\n",
        "\n",
        "- 3: A previsão de vendas para o ano 2020 é: 1633.00\n",
        "\n",
        "- 4: A previsão de vendas para o ano 2021 é: 1724.00\n",
        "\n",
        "- 5: Codigo com Python:\n",
        "\n",
        "```\n",
        "from sklearn.linear_model import LinearRegression\n",
        "\n",
        "anos = [2010, 2011, 2012, 2014, 2017, 2018, 2019]\n",
        "vendas = [723, 814, 905, 1087, 1360, 1451, 1542]\n",
        "\n",
        "modelo = LinearRegression()\n",
        "modelo.fit([[ano] for ano in anos], vendas)\n",
        "\n",
        "\n",
        "while True:\n",
        "  opcao = int(input(\"\"\"\n",
        "  Menu\n",
        "  0 - Sair\n",
        "  1 - Previsão\n",
        "\n",
        "  opção:\n",
        "  \"\"\"))\n",
        "  match opcao:\n",
        "    case 0:\n",
        "      break\n",
        "    case 1:\n",
        "      ano = int(input(\"Digite o ano desejado: \"))\n",
        "      previsao = modelo.predict([[ano]])[0]\n",
        "      print(f\"A previsão de vendas para o ano {ano} é: {previsao:.2f}\")\n",
        "    case _:\n",
        "      print(\"Digite uma opção valide vulgo 0 e 1\")\n",
        "```\n",
        "\n",
        "\n",
        "\n",
        "- 6: De acordo com o nosso modelo em 2021 o total de vendas será de 1724 reais, considerando as informações da vida de Vlad ele se localizou em uma melhor região e estava se dando bem com isso\n",
        "\n",
        "- 7: De acordo com o nosso modelo em 2023 o total de vendas será de 1906 reais, para Vlad vender mais provavelmente seu público aumentou e o valor dos produtos trazido"
      ],
      "metadata": {
        "id": "dpwby7cz7_-j"
      }
    }
  ]
}